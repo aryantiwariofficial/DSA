{
 "cells": [
  {
   "cell_type": "code",
   "execution_count": 2,
   "id": "0d167a25",
   "metadata": {},
   "outputs": [
    {
     "name": "stdout",
     "output_type": "stream",
     "text": [
      " 5 \n",
      " 3 \n",
      "1\n"
     ]
    }
   ],
   "source": [
    "def count_favorite_singers(n, playlist):\n",
    "    singer_counts = {}\n",
    "    max_count = 0\n",
    "\n",
    "    for singer in playlist:\n",
    "        if singer not in singer_counts:\n",
    "            singer_counts[singer] = 0\n",
    "        singer_counts[singer] += 1\n",
    "        max_count = max(max_count, singer_counts[singer])\n",
    "\n",
    "    favorite_singers = sum(1 for count in singer_counts.values() if count == max_count)\n",
    "    return favorite_singers\n",
    "\n",
    "\n",
    "n = int(input())\n",
    "\n",
    "\n",
    "playlist = list(map(int, input().split()))\n",
    "\n",
    "\n",
    "favorite_singers = count_favorite_singers(n, playlist)\n",
    "\n",
    "\n",
    "print(favorite_singers)\n"
   ]
  },
  {
   "cell_type": "code",
   "execution_count": null,
   "id": "d523a21c",
   "metadata": {},
   "outputs": [],
   "source": []
  }
 ],
 "metadata": {
  "kernelspec": {
   "display_name": "Python 3 (ipykernel)",
   "language": "python",
   "name": "python3"
  },
  "language_info": {
   "codemirror_mode": {
    "name": "ipython",
    "version": 3
   },
   "file_extension": ".py",
   "mimetype": "text/x-python",
   "name": "python",
   "nbconvert_exporter": "python",
   "pygments_lexer": "ipython3",
   "version": "3.9.12"
  }
 },
 "nbformat": 4,
 "nbformat_minor": 5
}
