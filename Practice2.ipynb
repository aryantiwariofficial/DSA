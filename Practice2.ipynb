{
 "cells": [
  {
   "cell_type": "code",
   "execution_count": 1,
   "id": "f0b84781",
   "metadata": {},
   "outputs": [
    {
     "name": "stdout",
     "output_type": "stream",
     "text": [
      "zzoooo\n",
      "Yes\n"
     ]
    }
   ],
   "source": [
    "name = input()\n",
    "count = 0\n",
    "count1 = 0\n",
    "\n",
    "for i in range (0, len(name)):\n",
    "    if name[i] == 'z':\n",
    "        count+=1\n",
    "\n",
    "    if name[i] == 'o':\n",
    "        count1+=1\n",
    "\n",
    "\n",
    "if count1 == 2*count:\n",
    "    print('Yes')\n",
    "\n",
    "else:\n",
    "    print('No')    \n",
    "        \n",
    "        \n",
    "\n",
    "\n",
    "\n",
    "\n"
   ]
  },
  {
   "cell_type": "code",
   "execution_count": null,
   "id": "38999a6c",
   "metadata": {},
   "outputs": [],
   "source": []
  }
 ],
 "metadata": {
  "kernelspec": {
   "display_name": "Python 3 (ipykernel)",
   "language": "python",
   "name": "python3"
  },
  "language_info": {
   "codemirror_mode": {
    "name": "ipython",
    "version": 3
   },
   "file_extension": ".py",
   "mimetype": "text/x-python",
   "name": "python",
   "nbconvert_exporter": "python",
   "pygments_lexer": "ipython3",
   "version": "3.9.12"
  }
 },
 "nbformat": 4,
 "nbformat_minor": 5
}
