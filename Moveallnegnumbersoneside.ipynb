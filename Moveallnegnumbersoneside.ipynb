{
 "cells": [
  {
   "cell_type": "code",
   "execution_count": 8,
   "id": "7a9f8c61",
   "metadata": {},
   "outputs": [],
   "source": [
    "B = []\n",
    "C = []\n",
    "D = []\n",
    "def negposarr(A):\n",
    "    for i in range(len(A)):\n",
    "        if A[i] < 0:\n",
    "            B.append(A[i])\n",
    "                      \n",
    "        if A[i] > 0:\n",
    "            C.append(A[i])\n",
    "            \n",
    "            \n",
    "    D = B + C         \n",
    "    return D        \n",
    "   \n"
   ]
  },
  {
   "cell_type": "code",
   "execution_count": 9,
   "id": "d1ba8e82",
   "metadata": {},
   "outputs": [
    {
     "data": {
      "text/plain": [
       "[-12, -13, -5, -7, -3, -6, 11, 6, 5]"
      ]
     },
     "execution_count": 9,
     "metadata": {},
     "output_type": "execute_result"
    }
   ],
   "source": [
    "P = [-12, 11, -13, -5, 6, -7, 5, -3, -6]\n",
    "negposarr(P)"
   ]
  },
  {
   "cell_type": "code",
   "execution_count": null,
   "id": "776b22db",
   "metadata": {},
   "outputs": [],
   "source": []
  }
 ],
 "metadata": {
  "kernelspec": {
   "display_name": "Python 3 (ipykernel)",
   "language": "python",
   "name": "python3"
  },
  "language_info": {
   "codemirror_mode": {
    "name": "ipython",
    "version": 3
   },
   "file_extension": ".py",
   "mimetype": "text/x-python",
   "name": "python",
   "nbconvert_exporter": "python",
   "pygments_lexer": "ipython3",
   "version": "3.9.12"
  }
 },
 "nbformat": 4,
 "nbformat_minor": 5
}
