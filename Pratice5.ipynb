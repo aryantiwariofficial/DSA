{
 "cells": [
  {
   "cell_type": "code",
   "execution_count": null,
   "id": "6454f452",
   "metadata": {},
   "outputs": [],
   "source": [
    "def fact(n):\n",
    "    if n == 1 or n == 0:\n",
    "        return 1\n",
    "\n",
    "    else:\n",
    "        return n*fact(n-1)    \n",
    "\n",
    "\n",
    "\n",
    "n = int(input()) \n",
    "print(fact(n))   "
   ]
  }
 ],
 "metadata": {
  "kernelspec": {
   "display_name": "Python 3 (ipykernel)",
   "language": "python",
   "name": "python3"
  },
  "language_info": {
   "codemirror_mode": {
    "name": "ipython",
    "version": 3
   },
   "file_extension": ".py",
   "mimetype": "text/x-python",
   "name": "python",
   "nbconvert_exporter": "python",
   "pygments_lexer": "ipython3",
   "version": "3.9.12"
  }
 },
 "nbformat": 4,
 "nbformat_minor": 5
}
