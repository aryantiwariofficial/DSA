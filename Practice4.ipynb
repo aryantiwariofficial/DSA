{
 "cells": [
  {
   "cell_type": "code",
   "execution_count": null,
   "id": "5b8da337",
   "metadata": {},
   "outputs": [],
   "source": [
    "string = input()\n",
    "l = []\n",
    "\n",
    "for letter in string:\n",
    "    l.append(letter)\n",
    "\n",
    "if l[2] == 'A' or 'E' or 'I' or 'O' or 'U' or 'Y':\n",
    "    print(\"invalid\")\n",
    "\n",
    "\n",
    "else:\n",
    "\n",
    "    if(l[0]+l[1])%2==0 or (l[3]+l[4])%2==0 or (l[4]+l[5])%2 or (l[7]+l[8])%2:\n",
    "\n",
    "\n",
    "        print('valid')\n",
    "\n",
    "\n",
    "    else:\n",
    "\n",
    "        print('invalid')         \n",
    "\n",
    "\n",
    "\n",
    "\n",
    "\n",
    " "
   ]
  }
 ],
 "metadata": {
  "kernelspec": {
   "display_name": "Python 3 (ipykernel)",
   "language": "python",
   "name": "python3"
  },
  "language_info": {
   "codemirror_mode": {
    "name": "ipython",
    "version": 3
   },
   "file_extension": ".py",
   "mimetype": "text/x-python",
   "name": "python",
   "nbconvert_exporter": "python",
   "pygments_lexer": "ipython3",
   "version": "3.9.12"
  }
 },
 "nbformat": 4,
 "nbformat_minor": 5
}
